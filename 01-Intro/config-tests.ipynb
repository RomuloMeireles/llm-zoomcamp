{
 "cells": [
  {
   "cell_type": "code",
   "execution_count": 13,
   "id": "d9055e63",
   "metadata": {},
   "outputs": [
    {
     "data": {
      "text/plain": [
       "True"
      ]
     },
     "execution_count": 13,
     "metadata": {},
     "output_type": "execute_result"
    }
   ],
   "source": [
    "import openai\n",
    "from openai import OpenAI\n",
    "\n",
    "import os\n",
    "\n",
    "from dotenv import load_dotenv\n",
    "load_dotenv() "
   ]
  },
  {
   "cell_type": "code",
   "execution_count": 14,
   "id": "2cf4acf1",
   "metadata": {},
   "outputs": [],
   "source": [
    "client = OpenAI(api_key=os.getenv(\"OPENAI_API_KEY\"))"
   ]
  },
  {
   "cell_type": "code",
   "execution_count": 17,
   "id": "364de96e",
   "metadata": {},
   "outputs": [
    {
     "data": {
      "text/plain": [
       "\"Whether it's too late to join a course depends on several factors, including the specific course's enrollment policies, start date, and any deadlines for registration. Here are a few steps you can take to determine if you can still join:\\n\\n1. **Check the Course Schedule:** Look up the course details on the official website or platform hosting the course to see if the start date has passed or if there are any upcoming sessions.\\n\\n2. **Contact the Instructor or Institution:** Reach out to the course instructor or the institution offering the course to inquire about late enrollment possibilities. They might allow late registrations or offer guidance on how to catch up.\\n\\n3. **Review Enrollment Policies:** Some courses, especially online ones, may have more flexible enrollment policies, allowing you to join at any time or within a certain period after the start date.\\n\\n4. **Consider Self-paced Options:** If the course is self-paced, you might be able to join at any time and complete it at your own speed, provided the course remains available.\\n\\n5. **Check for Prerecorded Sessions:** Some courses offer recorded sessions that you can watch if you miss the live ones, making it easier to catch up even if you join late.\\n\\nIf you're still unsure, don't hesitate to reach out directly to the course provider for clarification.\""
      ]
     },
     "execution_count": 17,
     "metadata": {},
     "output_type": "execute_result"
    }
   ],
   "source": [
    "response = client.chat.completions.create(\n",
    "    model=\"gpt-4o\",\n",
    "    messages=[{\"role\": \"user\", \"content\": \"is it too late to join the course?'\"}]\n",
    ")\n",
    "\n",
    "response.choices[0].message.content\n"
   ]
  },
  {
   "cell_type": "code",
   "execution_count": null,
   "id": "680e1b55",
   "metadata": {},
   "outputs": [],
   "source": []
  }
 ],
 "metadata": {
  "kernelspec": {
   "display_name": "Python 3",
   "language": "python",
   "name": "python3"
  },
  "language_info": {
   "codemirror_mode": {
    "name": "ipython",
    "version": 3
   },
   "file_extension": ".py",
   "mimetype": "text/x-python",
   "name": "python",
   "nbconvert_exporter": "python",
   "pygments_lexer": "ipython3",
   "version": "3.12.1"
  }
 },
 "nbformat": 4,
 "nbformat_minor": 5
}
